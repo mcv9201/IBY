{
  "nbformat": 4,
  "nbformat_minor": 0,
  "metadata": {
    "colab": {
      "name": "mini_xception",
      "provenance": [],
      "collapsed_sections": [],
      "mount_file_id": "1fDRgcU0tME4rHm9ztvIi8u_toS7vnWjl",
      "authorship_tag": "ABX9TyO5mPXvfedeGZiMKrxcAfag",
      "include_colab_link": true
    },
    "kernelspec": {
      "name": "python3",
      "display_name": "Python 3"
    }
  },
  "cells": [
    {
      "cell_type": "markdown",
      "metadata": {
        "id": "view-in-github",
        "colab_type": "text"
      },
      "source": [
        "<a href=\"https://colab.research.google.com/github/mcv9201/IBY/blob/main/mini_xception.ipynb\" target=\"_parent\"><img src=\"https://colab.research.google.com/assets/colab-badge.svg\" alt=\"Open In Colab\"/></a>"
      ]
    },
    {
      "cell_type": "code",
      "metadata": {
        "colab": {
          "base_uri": "https://localhost:8080/"
        },
        "id": "c2-c0PYX54yw",
        "outputId": "e3cb625d-8ccf-40a4-a3bb-e282d963ce1b"
      },
      "source": [
        "from google.colab import drive\n",
        "drive.mount('/content/drive/',force_remount =True)"
      ],
      "execution_count": null,
      "outputs": [
        {
          "output_type": "stream",
          "text": [
            "Mounted at /content/drive/\n"
          ],
          "name": "stdout"
        }
      ]
    },
    {
      "cell_type": "code",
      "metadata": {
        "id": "1OTI50kUXxQ7",
        "colab": {
          "base_uri": "https://localhost:8080/"
        },
        "outputId": "b3a8dff9-d8b7-4b76-cfa2-da623e789c00"
      },
      "source": [
        "import pandas as pd\n",
        "import numpy as np\n",
        "import cv2\n",
        "import os\n",
        "import matplotlib.pyplot as plt\n",
        "import tensorflow as tf\n",
        "import tensorflow.keras as keras\n",
        "from tensorflow.keras.layers import Activation, Convolution2D, Conv2D, Dropout, AveragePooling2D, BatchNormalization, GlobalAveragePooling2D, Flatten, Input, MaxPooling2D, SeparableConv2D\n",
        "from tensorflow.keras.preprocessing import image\n",
        "from tensorflow.keras.preprocessing.image import ImageDataGenerator\n",
        "from tensorflow.keras.regularizers import l2\n",
        "from tensorflow.keras.models import Model,Sequential\n",
        "from tensorflow.keras import layers\n",
        "\n",
        "\n",
        "train = ImageDataGenerator(rescale = 1/255)\n",
        "val = ImageDataGenerator(rescale = 1/255)\n",
        "\n",
        "train_dataset = train.flow_from_directory('/content/drive/MyDrive/Sample Data/train',target_size=(48,48),batch_size = 16,classes = ['angry','disgust','fear','happy','neutral','sad','surprise'])\n",
        "val_dataset = val.flow_from_directory('/content/drive/MyDrive/Sample Data/test',target_size=(48,48),batch_size = 16,classes = ['angry','disgust','fear','happy','neutral','sad','surprise'],)\n",
        "\n",
        "input_shape = (48,48,3)\n",
        "l2_regularization=0.01\n",
        "regularization = l2(l2_regularization)\n",
        "\n",
        "# base,\n",
        "img_input = Input(input_shape)\n",
        "x = Conv2D(8, (3, 3), strides=(1, 1), kernel_regularizer=regularization,\n",
        "            use_bias=False)(img_input)\n",
        "x = BatchNormalization()(x)\n",
        "x = Activation('relu')(x)\n",
        "x = Conv2D(8, (3, 3), strides=(1, 1), kernel_regularizer=regularization,\n",
        "            use_bias=False)(x)\n",
        "x = BatchNormalization()(x)\n",
        "x = Activation('relu')(x)\n",
        "\n",
        "# module 1\n",
        "residual = Conv2D(16, (1, 1), strides=(2, 2),\n",
        "                  padding='same', use_bias=False)(x)\n",
        "residual = BatchNormalization()(residual)\n",
        "\n",
        "x = SeparableConv2D(16, (3, 3), padding='same',\n",
        "                    kernel_regularizer=regularization,\n",
        "                    use_bias=False)(x)\n",
        "x = BatchNormalization()(x)\n",
        "x = Activation('relu')(x)\n",
        "x = SeparableConv2D(16, (3, 3), padding='same',\n",
        "                    kernel_regularizer=regularization,\n",
        "                    use_bias=False)(x)\n",
        "x = BatchNormalization()(x)\n",
        "\n",
        "x = MaxPooling2D((3, 3), strides=(2, 2), padding='same')(x)\n",
        "x = layers.add([x, residual])\n",
        "\n",
        "# module 2\n",
        "residual = Conv2D(32, (1, 1), strides=(2, 2),\n",
        "                  padding='same', use_bias=False)(x)\n",
        "residual = BatchNormalization()(residual)\n",
        "\n",
        "x = SeparableConv2D(32, (3, 3), padding='same',\n",
        "                    kernel_regularizer=regularization,\n",
        "                    use_bias=False)(x)\n",
        "x = BatchNormalization()(x)\n",
        "x = Activation('relu')(x)\n",
        "x = SeparableConv2D(32, (3, 3), padding='same',\n",
        "                    kernel_regularizer=regularization,\n",
        "                    use_bias=False)(x)\n",
        "x = BatchNormalization()(x)\n",
        "\n",
        "x = MaxPooling2D((3, 3), strides=(2, 2), padding='same')(x)\n",
        "x = layers.add([x, residual])\n",
        "\n",
        "# module 3\n",
        "residual = Conv2D(64, (1, 1), strides=(2, 2),\n",
        "                  padding='same', use_bias=False)(x)\n",
        "residual = BatchNormalization()(residual)\n",
        "\n",
        "x = SeparableConv2D(64, (3, 3), padding='same',\n",
        "                    kernel_regularizer=regularization,\n",
        "                    use_bias=False)(x)\n",
        "x = BatchNormalization()(x)\n",
        "x = Activation('relu')(x)\n",
        "x = SeparableConv2D(64, (3, 3), padding='same',\n",
        "                    kernel_regularizer=regularization,\n",
        "                    use_bias=False)(x)\n",
        "x = BatchNormalization()(x)\n",
        "\n",
        "x = MaxPooling2D((3, 3), strides=(2, 2), padding='same')(x)\n",
        "x = layers.add([x, residual])\n",
        "\n",
        "# module 4\n",
        "residual = Conv2D(128, (1, 1), strides=(2, 2),\n",
        "                  padding='same', use_bias=False)(x)\n",
        "residual = BatchNormalization()(residual)\n",
        "\n",
        "x = SeparableConv2D(128, (3, 3), padding='same',\n",
        "                    kernel_regularizer=regularization,\n",
        "                    use_bias=False)(x)\n",
        "x = BatchNormalization()(x)\n",
        "x = Activation('relu')(x)\n",
        "x = SeparableConv2D(128, (3, 3), padding='same',\n",
        "                    kernel_regularizer=regularization,\n",
        "                    use_bias=False)(x)\n",
        "x = BatchNormalization()(x)\n",
        "\n",
        "x = MaxPooling2D((3, 3), strides=(2, 2), padding='same')(x)\n",
        "x = layers.add([x, residual])\n",
        "\n",
        "x = Conv2D(7, (3, 3),\n",
        "            # kernel_regularizer=regularization,\n",
        "            padding='same')(x)\n",
        "x = GlobalAveragePooling2D()(x)\n",
        "output = Activation('softmax', name='predictions')(x)\n",
        "\n",
        "model = Model(img_input, output)\n",
        "\n",
        "model.compile(\n",
        "    loss = 'categorical_crossentropy',\n",
        "    optimizer = tf.keras.optimizers.Adam(),\n",
        "    metrics = ['accuracy'],\n",
        ")\n",
        "\n",
        "hist = model.fit(\n",
        "    train_dataset,\n",
        "    validation_data = val_dataset,\n",
        "    epochs = 50,\n",
        "    verbose=1,\n",
        "    steps_per_epoch = len(train_dataset),\n",
        "    validation_steps = len(val_dataset),\n",
        ")\n",
        "\n",
        "fer_json = model.to_json()\n",
        "with open(\"/content/drive/MyDrive/mini_xception.json\", \"w\") as json_file:\n",
        "    json_file.write(fer_json)\n",
        "model.save_weights(\"/content/drive/MyDrive/mini_xception.h5\")"
      ],
      "execution_count": null,
      "outputs": [
        {
          "output_type": "stream",
          "text": [
            "Found 28711 images belonging to 7 classes.\n",
            "Found 7187 images belonging to 7 classes.\n",
            "Epoch 1/50\n",
            "1795/1795 [==============================] - 8884s 5s/step - loss: 1.8343 - accuracy: 0.3220 - val_loss: 2.5311 - val_accuracy: 0.2283\n",
            "Epoch 2/50\n",
            "1795/1795 [==============================] - 225s 125ms/step - loss: 1.4188 - accuracy: 0.4740 - val_loss: 1.8308 - val_accuracy: 0.3122\n",
            "Epoch 3/50\n",
            "1795/1795 [==============================] - 218s 122ms/step - loss: 1.2901 - accuracy: 0.5182 - val_loss: 1.3370 - val_accuracy: 0.5140\n",
            "Epoch 4/50\n",
            "1795/1795 [==============================] - 217s 121ms/step - loss: 1.2042 - accuracy: 0.5525 - val_loss: 1.4804 - val_accuracy: 0.4798\n",
            "Epoch 5/50\n",
            "1795/1795 [==============================] - 219s 122ms/step - loss: 1.1407 - accuracy: 0.5831 - val_loss: 1.2921 - val_accuracy: 0.5177\n",
            "Epoch 6/50\n",
            "1795/1795 [==============================] - 217s 121ms/step - loss: 1.1003 - accuracy: 0.5925 - val_loss: 1.2916 - val_accuracy: 0.5287\n",
            "Epoch 7/50\n",
            "1795/1795 [==============================] - 219s 122ms/step - loss: 1.0376 - accuracy: 0.6215 - val_loss: 1.2593 - val_accuracy: 0.5322\n",
            "Epoch 8/50\n",
            "1795/1795 [==============================] - 216s 120ms/step - loss: 0.9875 - accuracy: 0.6384 - val_loss: 1.2647 - val_accuracy: 0.5362\n",
            "Epoch 9/50\n",
            "1795/1795 [==============================] - 217s 121ms/step - loss: 0.9660 - accuracy: 0.6440 - val_loss: 1.2523 - val_accuracy: 0.5600\n",
            "Epoch 10/50\n",
            "1795/1795 [==============================] - 216s 121ms/step - loss: 0.9350 - accuracy: 0.6582 - val_loss: 1.2963 - val_accuracy: 0.5495\n",
            "Epoch 11/50\n",
            "1795/1795 [==============================] - 218s 121ms/step - loss: 0.8940 - accuracy: 0.6768 - val_loss: 1.2424 - val_accuracy: 0.5568\n",
            "Epoch 12/50\n",
            "1795/1795 [==============================] - 218s 121ms/step - loss: 0.8531 - accuracy: 0.6959 - val_loss: 1.2885 - val_accuracy: 0.5644\n",
            "Epoch 13/50\n",
            "1795/1795 [==============================] - 214s 119ms/step - loss: 0.8150 - accuracy: 0.7038 - val_loss: 1.3110 - val_accuracy: 0.5632\n",
            "Epoch 14/50\n",
            "1795/1795 [==============================] - 215s 120ms/step - loss: 0.7850 - accuracy: 0.7167 - val_loss: 1.2635 - val_accuracy: 0.5624\n",
            "Epoch 15/50\n",
            "1795/1795 [==============================] - 218s 122ms/step - loss: 0.7511 - accuracy: 0.7325 - val_loss: 1.3520 - val_accuracy: 0.5623\n",
            "Epoch 16/50\n",
            "1795/1795 [==============================] - 219s 122ms/step - loss: 0.7190 - accuracy: 0.7463 - val_loss: 1.3861 - val_accuracy: 0.5443\n",
            "Epoch 17/50\n",
            "1795/1795 [==============================] - 217s 121ms/step - loss: 0.6938 - accuracy: 0.7534 - val_loss: 1.4192 - val_accuracy: 0.5369\n",
            "Epoch 18/50\n",
            "1795/1795 [==============================] - 217s 121ms/step - loss: 0.6694 - accuracy: 0.7593 - val_loss: 1.3397 - val_accuracy: 0.5770\n",
            "Epoch 19/50\n",
            "1795/1795 [==============================] - 217s 121ms/step - loss: 0.6327 - accuracy: 0.7760 - val_loss: 1.3301 - val_accuracy: 0.5759\n",
            "Epoch 20/50\n",
            "1795/1795 [==============================] - 218s 121ms/step - loss: 0.5977 - accuracy: 0.7896 - val_loss: 1.4489 - val_accuracy: 0.5553\n",
            "Epoch 21/50\n",
            "1795/1795 [==============================] - 218s 121ms/step - loss: 0.5841 - accuracy: 0.7958 - val_loss: 1.4018 - val_accuracy: 0.5805\n",
            "Epoch 22/50\n",
            "1795/1795 [==============================] - 217s 121ms/step - loss: 0.5606 - accuracy: 0.8077 - val_loss: 1.4205 - val_accuracy: 0.5748\n",
            "Epoch 23/50\n",
            "1795/1795 [==============================] - 218s 121ms/step - loss: 0.5327 - accuracy: 0.8158 - val_loss: 1.5152 - val_accuracy: 0.5631\n",
            "Epoch 24/50\n",
            "1795/1795 [==============================] - 217s 121ms/step - loss: 0.5143 - accuracy: 0.8219 - val_loss: 1.5622 - val_accuracy: 0.5621\n",
            "Epoch 25/50\n",
            "1795/1795 [==============================] - 218s 121ms/step - loss: 0.4932 - accuracy: 0.8301 - val_loss: 1.5692 - val_accuracy: 0.5610\n",
            "Epoch 26/50\n",
            "1795/1795 [==============================] - 217s 121ms/step - loss: 0.4836 - accuracy: 0.8353 - val_loss: 1.6385 - val_accuracy: 0.5400\n",
            "Epoch 27/50\n",
            "1795/1795 [==============================] - 217s 121ms/step - loss: 0.4731 - accuracy: 0.8368 - val_loss: 1.7017 - val_accuracy: 0.5484\n",
            "Epoch 28/50\n",
            "1795/1795 [==============================] - 217s 121ms/step - loss: 0.4505 - accuracy: 0.8444 - val_loss: 1.6659 - val_accuracy: 0.5495\n",
            "Epoch 29/50\n",
            "1795/1795 [==============================] - 217s 121ms/step - loss: 0.4365 - accuracy: 0.8500 - val_loss: 1.6996 - val_accuracy: 0.5514\n",
            "Epoch 30/50\n",
            "1795/1795 [==============================] - 216s 121ms/step - loss: 0.4257 - accuracy: 0.8538 - val_loss: 1.7078 - val_accuracy: 0.5602\n",
            "Epoch 31/50\n",
            "1795/1795 [==============================] - 216s 120ms/step - loss: 0.4147 - accuracy: 0.8607 - val_loss: 1.7080 - val_accuracy: 0.5575\n",
            "Epoch 32/50\n",
            "1795/1795 [==============================] - 217s 121ms/step - loss: 0.4006 - accuracy: 0.8649 - val_loss: 1.7635 - val_accuracy: 0.5582\n",
            "Epoch 33/50\n",
            " 516/1795 [=======>......................] - ETA: 2:24 - loss: 0.3390 - accuracy: 0.8891Buffered data was truncated after reaching the output size limit."
          ],
          "name": "stdout"
        }
      ]
    },
    {
      "cell_type": "code",
      "metadata": {
        "colab": {
          "base_uri": "https://localhost:8080/",
          "height": 295
        },
        "id": "sHkXqb_TXtrj",
        "outputId": "69b871f0-0c06-4266-fad1-ea01dd2b3c06"
      },
      "source": [
        "acc = hist.history['accuracy']\n",
        "val_acc = hist.history['val_accuracy']\n",
        "epochs = range(1, len(loss)+1)\n",
        "plt.plot(epochs,acc,'g',label='Training acc')\n",
        "plt.plot(epochs,val_acc,'r',label='Validation acc')\n",
        "plt.title('Training and validation acc')\n",
        "plt.xlabel('Epochs')\n",
        "plt.ylabel('Loss')\n",
        "plt.legend()\n",
        "plt.show()"
      ],
      "execution_count": null,
      "outputs": [
        {
          "output_type": "display_data",
          "data": {
            "image/png": "[encoded data removed]",
            "text/plain": [
              "<Figure size 432x288 with 1 Axes>"
            ]
          },
          "metadata": {
            "tags": [],
            "needs_background": "light"
          }
        }
      ]
    }
  ]
}
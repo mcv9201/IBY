{
  "nbformat": 4,
  "nbformat_minor": 0,
  "metadata": {
    "colab": {
      "name": "Basic_model_v0.ipynb",
      "provenance": [],
      "mount_file_id": "1P-s4mcsCdCBli85iwUWVIZpQE03cQJUx",
      "authorship_tag": "ABX9TyMdfKscFt+TH/BiJFbRCJfE",
      "include_colab_link": true
    },
    "kernelspec": {
      "name": "python3",
      "display_name": "Python 3"
    },
    "accelerator": "GPU"
  },
  "cells": [
    {
      "cell_type": "markdown",
      "metadata": {
        "id": "view-in-github",
        "colab_type": "text"
      },
      "source": [
        "<a href=\"https://colab.research.google.com/github/mcv9201/IBY/blob/main/Basic_model_v0.ipynb\" target=\"_parent\"><img src=\"https://colab.research.google.com/assets/colab-badge.svg\" alt=\"Open In Colab\"/></a>"
      ]
    },
    {
      "cell_type": "code",
      "metadata": {
        "colab": {
          "base_uri": "https://localhost:8080/"
        },
        "id": "J7iykstun1RJ",
        "outputId": "e7fbcad3-ec6e-42de-c784-50026e09619f"
      },
      "source": [
        "!pip install tensorflow-gpu"
      ],
      "execution_count": null,
      "outputs": [
        {
          "output_type": "stream",
          "text": [
            "Requirement already satisfied: tensorflow-gpu in /usr/local/lib/python3.6/dist-packages (2.4.0)\n",
            "Requirement already satisfied: flatbuffers~=1.12.0 in /usr/local/lib/python3.6/dist-packages (from tensorflow-gpu) (1.12)\n",
            "Requirement already satisfied: absl-py~=0.10 in /usr/local/lib/python3.6/dist-packages (from tensorflow-gpu) (0.10.0)\n",
            "Requirement already satisfied: google-pasta~=0.2 in /usr/local/lib/python3.6/dist-packages (from tensorflow-gpu) (0.2.0)\n",
            "Requirement already satisfied: wheel~=0.35 in /usr/local/lib/python3.6/dist-packages (from tensorflow-gpu) (0.36.2)\n",
            "Requirement already satisfied: opt-einsum~=3.3.0 in /usr/local/lib/python3.6/dist-packages (from tensorflow-gpu) (3.3.0)\n",
            "Requirement already satisfied: keras-preprocessing~=1.1.2 in /usr/local/lib/python3.6/dist-packages (from tensorflow-gpu) (1.1.2)\n",
            "Requirement already satisfied: protobuf>=3.9.2 in /usr/local/lib/python3.6/dist-packages (from tensorflow-gpu) (3.12.4)\n",
            "Requirement already satisfied: tensorflow-estimator<2.5.0,>=2.4.0rc0 in /usr/local/lib/python3.6/dist-packages (from tensorflow-gpu) (2.4.0)\n",
            "Requirement already satisfied: grpcio~=1.32.0 in /usr/local/lib/python3.6/dist-packages (from tensorflow-gpu) (1.32.0)\n",
            "Requirement already satisfied: termcolor~=1.1.0 in /usr/local/lib/python3.6/dist-packages (from tensorflow-gpu) (1.1.0)\n",
            "Requirement already satisfied: h5py~=2.10.0 in /usr/local/lib/python3.6/dist-packages (from tensorflow-gpu) (2.10.0)\n",
            "Requirement already satisfied: six~=1.15.0 in /usr/local/lib/python3.6/dist-packages (from tensorflow-gpu) (1.15.0)\n",
            "Requirement already satisfied: typing-extensions~=3.7.4 in /usr/local/lib/python3.6/dist-packages (from tensorflow-gpu) (3.7.4.3)\n",
            "Requirement already satisfied: wrapt~=1.12.1 in /usr/local/lib/python3.6/dist-packages (from tensorflow-gpu) (1.12.1)\n",
            "Requirement already satisfied: gast==0.3.3 in /usr/local/lib/python3.6/dist-packages (from tensorflow-gpu) (0.3.3)\n",
            "Requirement already satisfied: numpy~=1.19.2 in /usr/local/lib/python3.6/dist-packages (from tensorflow-gpu) (1.19.4)\n",
            "Requirement already satisfied: astunparse~=1.6.3 in /usr/local/lib/python3.6/dist-packages (from tensorflow-gpu) (1.6.3)\n",
            "Requirement already satisfied: tensorboard~=2.4 in /usr/local/lib/python3.6/dist-packages (from tensorflow-gpu) (2.4.0)\n",
            "Requirement already satisfied: setuptools in /usr/local/lib/python3.6/dist-packages (from protobuf>=3.9.2->tensorflow-gpu) (51.1.1)\n",
            "Requirement already satisfied: werkzeug>=0.11.15 in /usr/local/lib/python3.6/dist-packages (from tensorboard~=2.4->tensorflow-gpu) (1.0.1)\n",
            "Requirement already satisfied: requests<3,>=2.21.0 in /usr/local/lib/python3.6/dist-packages (from tensorboard~=2.4->tensorflow-gpu) (2.23.0)\n",
            "Requirement already satisfied: google-auth-oauthlib<0.5,>=0.4.1 in /usr/local/lib/python3.6/dist-packages (from tensorboard~=2.4->tensorflow-gpu) (0.4.2)\n",
            "Requirement already satisfied: google-auth<2,>=1.6.3 in /usr/local/lib/python3.6/dist-packages (from tensorboard~=2.4->tensorflow-gpu) (1.17.2)\n",
            "Requirement already satisfied: markdown>=2.6.8 in /usr/local/lib/python3.6/dist-packages (from tensorboard~=2.4->tensorflow-gpu) (3.3.3)\n",
            "Requirement already satisfied: tensorboard-plugin-wit>=1.6.0 in /usr/local/lib/python3.6/dist-packages (from tensorboard~=2.4->tensorflow-gpu) (1.7.0)\n",
            "Requirement already satisfied: chardet<4,>=3.0.2 in /usr/local/lib/python3.6/dist-packages (from requests<3,>=2.21.0->tensorboard~=2.4->tensorflow-gpu) (3.0.4)\n",
            "Requirement already satisfied: certifi>=2017.4.17 in /usr/local/lib/python3.6/dist-packages (from requests<3,>=2.21.0->tensorboard~=2.4->tensorflow-gpu) (2020.12.5)\n",
            "Requirement already satisfied: urllib3!=1.25.0,!=1.25.1,<1.26,>=1.21.1 in /usr/local/lib/python3.6/dist-packages (from requests<3,>=2.21.0->tensorboard~=2.4->tensorflow-gpu) (1.24.3)\n",
            "Requirement already satisfied: idna<3,>=2.5 in /usr/local/lib/python3.6/dist-packages (from requests<3,>=2.21.0->tensorboard~=2.4->tensorflow-gpu) (2.10)\n",
            "Requirement already satisfied: requests-oauthlib>=0.7.0 in /usr/local/lib/python3.6/dist-packages (from google-auth-oauthlib<0.5,>=0.4.1->tensorboard~=2.4->tensorflow-gpu) (1.3.0)\n",
            "Requirement already satisfied: pyasn1-modules>=0.2.1 in /usr/local/lib/python3.6/dist-packages (from google-auth<2,>=1.6.3->tensorboard~=2.4->tensorflow-gpu) (0.2.8)\n",
            "Requirement already satisfied: rsa<5,>=3.1.4; python_version >= \"3\" in /usr/local/lib/python3.6/dist-packages (from google-auth<2,>=1.6.3->tensorboard~=2.4->tensorflow-gpu) (4.6)\n",
            "Requirement already satisfied: cachetools<5.0,>=2.0.0 in /usr/local/lib/python3.6/dist-packages (from google-auth<2,>=1.6.3->tensorboard~=2.4->tensorflow-gpu) (4.2.0)\n",
            "Requirement already satisfied: importlib-metadata; python_version < \"3.8\" in /usr/local/lib/python3.6/dist-packages (from markdown>=2.6.8->tensorboard~=2.4->tensorflow-gpu) (3.3.0)\n",
            "Requirement already satisfied: oauthlib>=3.0.0 in /usr/local/lib/python3.6/dist-packages (from requests-oauthlib>=0.7.0->google-auth-oauthlib<0.5,>=0.4.1->tensorboard~=2.4->tensorflow-gpu) (3.1.0)\n",
            "Requirement already satisfied: pyasn1<0.5.0,>=0.4.6 in /usr/local/lib/python3.6/dist-packages (from pyasn1-modules>=0.2.1->google-auth<2,>=1.6.3->tensorboard~=2.4->tensorflow-gpu) (0.4.8)\n",
            "Requirement already satisfied: zipp>=0.5 in /usr/local/lib/python3.6/dist-packages (from importlib-metadata; python_version < \"3.8\"->markdown>=2.6.8->tensorboard~=2.4->tensorflow-gpu) (3.4.0)\n"
          ],
          "name": "stdout"
        }
      ]
    },
    {
      "cell_type": "code",
      "metadata": {
        "colab": {
          "base_uri": "https://localhost:8080/"
        },
        "id": "bJ8JaaPUelKQ",
        "outputId": "57629ef2-336c-4b55-94ee-bfa838db49d3"
      },
      "source": [
        "from google.colab import drive\n",
        "drive.mount('/content/drive/',force_remount =True)"
      ],
      "execution_count": null,
      "outputs": [
        {
          "output_type": "stream",
          "text": [
            "Mounted at /content/drive/\n"
          ],
          "name": "stdout"
        }
      ]
    },
    {
      "cell_type": "code",
      "metadata": {
        "colab": {
          "base_uri": "https://localhost:8080/"
        },
        "id": "D0BT_sbPyzsC",
        "outputId": "c2bc7b80-bec3-41ba-a091-ccbbfba090b6"
      },
      "source": [
        "!nvidia-smi"
      ],
      "execution_count": 3,
      "outputs": [
        {
          "output_type": "stream",
          "text": [
            "Tue Jan 12 00:00:31 2021       \n",
            "+-----------------------------------------------------------------------------+\n",
            "| NVIDIA-SMI 460.27.04    Driver Version: 418.67       CUDA Version: 10.1     |\n",
            "|-------------------------------+----------------------+----------------------+\n",
            "| GPU  Name        Persistence-M| Bus-Id        Disp.A | Volatile Uncorr. ECC |\n",
            "| Fan  Temp  Perf  Pwr:Usage/Cap|         Memory-Usage | GPU-Util  Compute M. |\n",
            "|                               |                      |               MIG M. |\n",
            "|===============================+======================+======================|\n",
            "|   0  Tesla T4            Off  | 00000000:00:04.0 Off |                    0 |\n",
            "| N/A   48C    P0    29W /  70W |    683MiB / 15079MiB |      0%      Default |\n",
            "|                               |                      |                 ERR! |\n",
            "+-------------------------------+----------------------+----------------------+\n",
            "                                                                               \n",
            "+-----------------------------------------------------------------------------+\n",
            "| Processes:                                                                  |\n",
            "|  GPU   GI   CI        PID   Type   Process name                  GPU Memory |\n",
            "|        ID   ID                                                   Usage      |\n",
            "|=============================================================================|\n",
            "|  No running processes found                                                 |\n",
            "+-----------------------------------------------------------------------------+\n"
          ],
          "name": "stdout"
        }
      ]
    },
    {
      "cell_type": "code",
      "metadata": {
        "colab": {
          "base_uri": "https://localhost:8080/"
        },
        "id": "qh7IwW3wqQpu",
        "outputId": "82c898dc-718f-4e78-e8d0-bcd32ceaf119"
      },
      "source": [
        "import pandas as pd\n",
        "import numpy as np\n",
        "import cv2\n",
        "import os\n",
        "import matplotlib.pyplot as plt\n",
        "import tensorflow as tf\n",
        "import tensorflow.keras as keras\n",
        "import tensorflow.keras.layers as layers\n",
        "from tensorflow.keras.preprocessing import image\n",
        "from tensorflow.keras.preprocessing.image import ImageDataGenerator\n",
        "\n",
        "\n",
        "\n",
        "train = ImageDataGenerator(rescale = 1/255)\n",
        "val = ImageDataGenerator(rescale = 1/255)\n",
        "\n",
        "train_dataset = train.flow_from_directory('/content/drive/MyDrive/Sample Data/train',target_size=(48,48),batch_size = 10,classes = ['angry','disgust','fear','happy','neutral','sad','surprise'])\n",
        "val_dataset = val.flow_from_directory('/content/drive/MyDrive/Sample Data/test',target_size=(48,48),batch_size = 10,classes = ['angry','disgust','fear','happy','neutral','sad','surprise'],)\n",
        "\n",
        "model = keras.Sequential([\n",
        "    layers.Conv2D(16,(3,3),activation = 'relu',input_shape = (48,48,3)),\n",
        "    layers.Conv2D(16,(3,3),activation = 'relu'),\n",
        "    layers.MaxPool2D(pool_size=(2,2),strides=(2,2)),\n",
        "    layers.Dropout(0.5),\n",
        "    \n",
        "    layers.Conv2D(32,(3,3),activation = 'relu'),\n",
        "    layers.Conv2D(32,(3,3),activation = 'relu'),\n",
        "    layers.MaxPool2D(pool_size=(2,2),strides=(2,2)),\n",
        "    layers.Dropout(0.5),\n",
        "    \n",
        "    layers.Conv2D(64,(3,3),activation = 'relu'),\n",
        "    layers.MaxPool2D(pool_size=(2,2),strides=(2,2)),\n",
        "    \n",
        "    layers.Flatten(),\n",
        "    \n",
        "    layers.Dense(64,activation = 'relu'),\n",
        "    layers.Dense(32,activation = 'relu'),\n",
        "    layers.Dense(7,activation = 'softmax'),\n",
        "])\n",
        "\n",
        "model.compile(\n",
        "    loss = 'categorical_crossentropy',\n",
        "    optimizer = tf.keras.optimizers.Adam(),\n",
        "    metrics = ['accuracy'],\n",
        ")\n",
        "\n",
        "model.fit(\n",
        "    train_dataset,\n",
        "    validation_data = val_dataset,\n",
        "    epochs = 50,\n",
        "    verbose=1,\n",
        "    steps_per_epoch = len(train_dataset),\n",
        "    validation_steps = len(val_dataset),\n",
        ")\n",
        "\n",
        "fer_json = model.to_json()\n",
        "with open(\"simple_model.json\", \"w\") as json_file:\n",
        "    json_file.write(fer_json)\n",
        "model.save_weights(\"simple_model.h5\")\n"
      ],
      "execution_count": 2,
      "outputs": [
        {
          "output_type": "stream",
          "text": [
            "Found 28711 images belonging to 7 classes.\n",
            "Found 7187 images belonging to 7 classes.\n",
            "Epoch 1/50\n",
            "2872/2872 [==============================] - 14203s 5s/step - loss: 1.8166 - accuracy: 0.2452 - val_loss: 1.7193 - val_accuracy: 0.2884\n",
            "Epoch 2/50\n",
            "2872/2872 [==============================] - 50s 17ms/step - loss: 1.7132 - accuracy: 0.3012 - val_loss: 1.6138 - val_accuracy: 0.3651\n",
            "Epoch 3/50\n",
            "2872/2872 [==============================] - 48s 17ms/step - loss: 1.6320 - accuracy: 0.3538 - val_loss: 1.5417 - val_accuracy: 0.3964\n",
            "Epoch 4/50\n",
            "2872/2872 [==============================] - 47s 16ms/step - loss: 1.5858 - accuracy: 0.3731 - val_loss: 1.5140 - val_accuracy: 0.4025\n",
            "Epoch 5/50\n",
            "2872/2872 [==============================] - 48s 17ms/step - loss: 1.5360 - accuracy: 0.3965 - val_loss: 1.5100 - val_accuracy: 0.4073\n",
            "Epoch 6/50\n",
            "2872/2872 [==============================] - 47s 16ms/step - loss: 1.5229 - accuracy: 0.3988 - val_loss: 1.4582 - val_accuracy: 0.4313\n",
            "Epoch 7/50\n",
            "2872/2872 [==============================] - 47s 16ms/step - loss: 1.4807 - accuracy: 0.4214 - val_loss: 1.4897 - val_accuracy: 0.4141\n",
            "Epoch 8/50\n",
            "2872/2872 [==============================] - 47s 16ms/step - loss: 1.4641 - accuracy: 0.4287 - val_loss: 1.4167 - val_accuracy: 0.4496\n",
            "Epoch 9/50\n",
            "2872/2872 [==============================] - 47s 16ms/step - loss: 1.4480 - accuracy: 0.4371 - val_loss: 1.4118 - val_accuracy: 0.4437\n",
            "Epoch 10/50\n",
            "2872/2872 [==============================] - 47s 16ms/step - loss: 1.4279 - accuracy: 0.4473 - val_loss: 1.3938 - val_accuracy: 0.4586\n",
            "Epoch 11/50\n",
            "2872/2872 [==============================] - 46s 16ms/step - loss: 1.4184 - accuracy: 0.4548 - val_loss: 1.3985 - val_accuracy: 0.4560\n",
            "Epoch 12/50\n",
            "2872/2872 [==============================] - 47s 16ms/step - loss: 1.3809 - accuracy: 0.4689 - val_loss: 1.3633 - val_accuracy: 0.4703\n",
            "Epoch 13/50\n",
            "2872/2872 [==============================] - 46s 16ms/step - loss: 1.3806 - accuracy: 0.4678 - val_loss: 1.3526 - val_accuracy: 0.4725\n",
            "Epoch 14/50\n",
            "2872/2872 [==============================] - 46s 16ms/step - loss: 1.3659 - accuracy: 0.4697 - val_loss: 1.3513 - val_accuracy: 0.4724\n",
            "Epoch 15/50\n",
            "2872/2872 [==============================] - 47s 16ms/step - loss: 1.3467 - accuracy: 0.4783 - val_loss: 1.3320 - val_accuracy: 0.4752\n",
            "Epoch 16/50\n",
            "2872/2872 [==============================] - 47s 16ms/step - loss: 1.3424 - accuracy: 0.4787 - val_loss: 1.3103 - val_accuracy: 0.4912\n",
            "Epoch 17/50\n",
            "2872/2872 [==============================] - 46s 16ms/step - loss: 1.3422 - accuracy: 0.4836 - val_loss: 1.3139 - val_accuracy: 0.4921\n",
            "Epoch 18/50\n",
            "2872/2872 [==============================] - 47s 16ms/step - loss: 1.3266 - accuracy: 0.4871 - val_loss: 1.2963 - val_accuracy: 0.4969\n",
            "Epoch 19/50\n",
            "2872/2872 [==============================] - 47s 16ms/step - loss: 1.3144 - accuracy: 0.4918 - val_loss: 1.2850 - val_accuracy: 0.5106\n",
            "Epoch 20/50\n",
            "2872/2872 [==============================] - 47s 16ms/step - loss: 1.3119 - accuracy: 0.4976 - val_loss: 1.2751 - val_accuracy: 0.5076\n",
            "Epoch 21/50\n",
            "2872/2872 [==============================] - 47s 16ms/step - loss: 1.3164 - accuracy: 0.4918 - val_loss: 1.2862 - val_accuracy: 0.4990\n",
            "Epoch 22/50\n",
            "2872/2872 [==============================] - 47s 16ms/step - loss: 1.2894 - accuracy: 0.5020 - val_loss: 1.2672 - val_accuracy: 0.5133\n",
            "Epoch 23/50\n",
            "2872/2872 [==============================] - 47s 16ms/step - loss: 1.2853 - accuracy: 0.5066 - val_loss: 1.2364 - val_accuracy: 0.5244\n",
            "Epoch 24/50\n",
            "2872/2872 [==============================] - 47s 16ms/step - loss: 1.2937 - accuracy: 0.5057 - val_loss: 1.2886 - val_accuracy: 0.5065\n",
            "Epoch 25/50\n",
            "2872/2872 [==============================] - 47s 17ms/step - loss: 1.2874 - accuracy: 0.5065 - val_loss: 1.2579 - val_accuracy: 0.5159\n",
            "Epoch 26/50\n",
            "2872/2872 [==============================] - 47s 16ms/step - loss: 1.2829 - accuracy: 0.5066 - val_loss: 1.3134 - val_accuracy: 0.5016\n",
            "Epoch 27/50\n",
            "2872/2872 [==============================] - 47s 16ms/step - loss: 1.2743 - accuracy: 0.5113 - val_loss: 1.2653 - val_accuracy: 0.5098\n",
            "Epoch 28/50\n",
            "2872/2872 [==============================] - 47s 16ms/step - loss: 1.2787 - accuracy: 0.5129 - val_loss: 1.2579 - val_accuracy: 0.5184\n",
            "Epoch 29/50\n",
            "2872/2872 [==============================] - 47s 16ms/step - loss: 1.2641 - accuracy: 0.5114 - val_loss: 1.2663 - val_accuracy: 0.5190\n",
            "Epoch 30/50\n",
            "2872/2872 [==============================] - 47s 16ms/step - loss: 1.2605 - accuracy: 0.5148 - val_loss: 1.2757 - val_accuracy: 0.5098\n",
            "Epoch 31/50\n",
            "2872/2872 [==============================] - 47s 16ms/step - loss: 1.2561 - accuracy: 0.5201 - val_loss: 1.2819 - val_accuracy: 0.5095\n",
            "Epoch 32/50\n",
            "2872/2872 [==============================] - 48s 17ms/step - loss: 1.2559 - accuracy: 0.5213 - val_loss: 1.2498 - val_accuracy: 0.5179\n",
            "Epoch 33/50\n",
            "2872/2872 [==============================] - 47s 16ms/step - loss: 1.2462 - accuracy: 0.5180 - val_loss: 1.2245 - val_accuracy: 0.5317\n",
            "Epoch 34/50\n",
            "2872/2872 [==============================] - 47s 16ms/step - loss: 1.2417 - accuracy: 0.5233 - val_loss: 1.2543 - val_accuracy: 0.5161\n",
            "Epoch 35/50\n",
            "2872/2872 [==============================] - 47s 16ms/step - loss: 1.2578 - accuracy: 0.5196 - val_loss: 1.2187 - val_accuracy: 0.5287\n",
            "Epoch 36/50\n",
            "2872/2872 [==============================] - 47s 16ms/step - loss: 1.2456 - accuracy: 0.5207 - val_loss: 1.2137 - val_accuracy: 0.5340\n",
            "Epoch 37/50\n",
            "2872/2872 [==============================] - 46s 16ms/step - loss: 1.2548 - accuracy: 0.5174 - val_loss: 1.2374 - val_accuracy: 0.5296\n",
            "Epoch 38/50\n",
            "2872/2872 [==============================] - 47s 16ms/step - loss: 1.2455 - accuracy: 0.5230 - val_loss: 1.2529 - val_accuracy: 0.5230\n",
            "Epoch 39/50\n",
            "2872/2872 [==============================] - 47s 16ms/step - loss: 1.2288 - accuracy: 0.5254 - val_loss: 1.2359 - val_accuracy: 0.5289\n",
            "Epoch 40/50\n",
            "2872/2872 [==============================] - 46s 16ms/step - loss: 1.2472 - accuracy: 0.5285 - val_loss: 1.2502 - val_accuracy: 0.5119\n",
            "Epoch 41/50\n",
            "2872/2872 [==============================] - 47s 16ms/step - loss: 1.2334 - accuracy: 0.5298 - val_loss: 1.2301 - val_accuracy: 0.5300\n",
            "Epoch 42/50\n",
            "2872/2872 [==============================] - 47s 16ms/step - loss: 1.2347 - accuracy: 0.5305 - val_loss: 1.2292 - val_accuracy: 0.5251\n",
            "Epoch 43/50\n",
            "2872/2872 [==============================] - 46s 16ms/step - loss: 1.2226 - accuracy: 0.5336 - val_loss: 1.2174 - val_accuracy: 0.5326\n",
            "Epoch 44/50\n",
            "2872/2872 [==============================] - 47s 16ms/step - loss: 1.2323 - accuracy: 0.5299 - val_loss: 1.1992 - val_accuracy: 0.5403\n",
            "Epoch 45/50\n",
            "2872/2872 [==============================] - 47s 16ms/step - loss: 1.2308 - accuracy: 0.5288 - val_loss: 1.1941 - val_accuracy: 0.5442\n",
            "Epoch 46/50\n",
            "2872/2872 [==============================] - 47s 16ms/step - loss: 1.2311 - accuracy: 0.5278 - val_loss: 1.2128 - val_accuracy: 0.5337\n",
            "Epoch 47/50\n",
            "2872/2872 [==============================] - 47s 16ms/step - loss: 1.2301 - accuracy: 0.5325 - val_loss: 1.2094 - val_accuracy: 0.5321\n",
            "Epoch 48/50\n",
            "2872/2872 [==============================] - 47s 16ms/step - loss: 1.2289 - accuracy: 0.5353 - val_loss: 1.2285 - val_accuracy: 0.5330\n",
            "Epoch 49/50\n",
            "2872/2872 [==============================] - 47s 16ms/step - loss: 1.2152 - accuracy: 0.5382 - val_loss: 1.2483 - val_accuracy: 0.5240\n",
            "Epoch 50/50\n",
            "2872/2872 [==============================] - 47s 16ms/step - loss: 1.2266 - accuracy: 0.5290 - val_loss: 1.2057 - val_accuracy: 0.5324\n"
          ],
          "name": "stdout"
        }
      ]
    }
  ]
}
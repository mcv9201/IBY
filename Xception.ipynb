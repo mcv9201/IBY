{
 "cells": [
  {
   "cell_type": "code",
   "execution_count": 2,
   "id": "later-share",
   "metadata": {},
   "outputs": [
    {
     "name": "stdout",
     "output_type": "stream",
     "text": [
      "Found 28709 images belonging to 7 classes.\n",
      "Found 7178 images belonging to 7 classes.\n",
      "Epoch 1/50\n",
      "1795/1795 [==============================] - 87s 48ms/step - loss: 1.4593 - accuracy: 0.4454 - val_loss: 1.3375 - val_accuracy: 0.4565\n",
      "Epoch 2/50\n",
      "1795/1795 [==============================] - 89s 49ms/step - loss: 1.2277 - accuracy: 0.5404 - val_loss: 1.2380 - val_accuracy: 0.5362\n",
      "Epoch 3/50\n",
      "1795/1795 [==============================] - 90s 50ms/step - loss: 1.1006 - accuracy: 0.5922 - val_loss: 1.1047 - val_accuracy: 0.5922\n",
      "Epoch 4/50\n",
      "1795/1795 [==============================] - 90s 50ms/step - loss: 0.9894 - accuracy: 0.6381 - val_loss: 1.1289 - val_accuracy: 0.5999\n",
      "Epoch 5/50\n",
      "1795/1795 [==============================] - 90s 50ms/step - loss: 0.8845 - accuracy: 0.6800 - val_loss: 1.2589 - val_accuracy: 0.5648\n",
      "Epoch 6/50\n",
      "1795/1795 [==============================] - 90s 50ms/step - loss: 0.7782 - accuracy: 0.7191 - val_loss: 1.2185 - val_accuracy: 0.5949\n",
      "Epoch 7/50\n",
      "1795/1795 [==============================] - 90s 50ms/step - loss: 0.6892 - accuracy: 0.7536 - val_loss: 1.2609 - val_accuracy: 0.6101\n",
      "Epoch 8/50\n",
      "1795/1795 [==============================] - 89s 50ms/step - loss: 0.5581 - accuracy: 0.8043 - val_loss: 1.1676 - val_accuracy: 0.6342\n",
      "Epoch 9/50\n",
      "1795/1795 [==============================] - 89s 50ms/step - loss: 0.4542 - accuracy: 0.8412 - val_loss: 1.2688 - val_accuracy: 0.6142\n",
      "Epoch 10/50\n",
      "1795/1795 [==============================] - 89s 50ms/step - loss: 0.3705 - accuracy: 0.8733 - val_loss: 1.2706 - val_accuracy: 0.6218\n",
      "Epoch 11/50\n",
      "1795/1795 [==============================] - 89s 50ms/step - loss: 0.3072 - accuracy: 0.8945 - val_loss: 1.5025 - val_accuracy: 0.6113\n",
      "Epoch 12/50\n",
      "1795/1795 [==============================] - 89s 50ms/step - loss: 0.2751 - accuracy: 0.9087 - val_loss: 1.4301 - val_accuracy: 0.6381\n",
      "Epoch 13/50\n",
      "1795/1795 [==============================] - 89s 50ms/step - loss: 0.2296 - accuracy: 0.9251 - val_loss: 1.5316 - val_accuracy: 0.6245\n",
      "Epoch 14/50\n",
      "1795/1795 [==============================] - 89s 49ms/step - loss: 0.1873 - accuracy: 0.9387 - val_loss: 1.7613 - val_accuracy: 0.6205\n",
      "Epoch 16/50\n",
      "1795/1795 [==============================] - 89s 49ms/step - loss: 0.1720 - accuracy: 0.9436 - val_loss: 1.6823 - val_accuracy: 0.6250\n",
      "Epoch 17/50\n",
      "1795/1795 [==============================] - 89s 49ms/step - loss: 0.1599 - accuracy: 0.9475 - val_loss: 1.7227 - val_accuracy: 0.6278\n",
      "Epoch 18/50\n",
      "1795/1795 [==============================] - 89s 49ms/step - loss: 0.1518 - accuracy: 0.9498 - val_loss: 1.7386 - val_accuracy: 0.6219\n",
      "Epoch 00018: early stopping\n"
     ]
    }
   ],
   "source": [
    "import tensorflow as tf\n",
    "from tensorflow.keras.layers import Input, Lambda, Dense, Flatten\n",
    "from tensorflow.keras.models import Model\n",
    "from tensorflow.keras.applications.xception import Xception\n",
    "from tensorflow.keras.applications.xception import preprocess_input\n",
    "from tensorflow.keras.preprocessing import image\n",
    "from tensorflow.keras.preprocessing.image import ImageDataGenerator\n",
    "from tensorflow.keras.models import Sequential\n",
    "from tensorflow.keras.callbacks import ModelCheckpoint, EarlyStopping, CSVLogger\n",
    "from keras.utils.np_utils import to_categorical\n",
    "import numpy as np\n",
    "import pandas as pd\n",
    "import matplotlib.pyplot as plt\n",
    "\n",
    "train = ImageDataGenerator(rescale = 1/255)\n",
    "val = ImageDataGenerator(rescale = 1/255)\n",
    "\n",
    "train_dataset = train.flow_from_directory('FER2013/train',target_size=(72,72),batch_size = 16,classes = ['angry','disgust','fear','happy','neutral','sad','surprise'])\n",
    "val_dataset = val.flow_from_directory('FER2013/test',target_size=(72,72),batch_size = 16,classes = ['angry','disgust','fear','happy','neutral','sad','surprise'],)\n",
    " \n",
    "input_shape = (72,72,3)\n",
    "\n",
    "image_input = Input(input_shape)\n",
    "\n",
    "xcept = Xception(input_shape=(72,72,3), weights='imagenet', include_top=False)(image_input)\n",
    "\n",
    "\n",
    "xcept.trainable = False\n",
    "  \n",
    "\n",
    "x = Flatten()(xcept)\n",
    "x = Dense(128, activation='relu')(x)\n",
    "x = Dense(64,activation='relu')(x)\n",
    "prediction = Dense(7, activation='softmax')(x)\n",
    "\n",
    "model = Model(inputs=image_input, outputs=prediction)\n",
    "\n",
    "#model.summary()\n",
    " \n",
    "model.compile(\n",
    "   loss = 'categorical_crossentropy',\n",
    "   optimizer = tf.keras.optimizers.Adam(),\n",
    "   metrics = ['accuracy'],\n",
    ")\n",
    "\n",
    "#filepath=\"/content/drive/MyDrive/Results/Xception/weights-improvement-{epoch:02d}-{val_acc:.2f}.hdf5\"\n",
    "#checkpoint = ModelCheckpoint('/content/drive/MyDrive/Results/Xception/weights_improvement-{epoch:02d}-{val_acc:.2f}.hdf5',verbose=1,monitor='val_acc',save_best_only=True,mode='max')\n",
    "early_stop = EarlyStopping(monitor='val_loss',patience=15,verbose=1)\n",
    "#log_csv = CSVLogger('Results/Xception/logs.csv',separator=',',append=False)\n",
    "\n",
    "#callbacks_list = [early_stop, log_csv]\n",
    "\n",
    "X = model.fit(\n",
    "   train_dataset,\n",
    "   validation_data = val_dataset,\n",
    "   epochs = 50,\n",
    "   verbose=1,\n",
    "   #steps_per_epoch = len(train_dataset),\n",
    "   #validation_steps = len(val_dataset),\n",
    "   callbacks = early_stop,\n",
    ")\n",
    " \n",
    "fer_json = model.to_json()\n",
    "with open(\"Xception.json\", \"w\") as json_file:\n",
    "   json_file.write(fer_json)\n",
    "model.save_weights(\"Xception.h5\")\n"
   ]
  },
  {
   "cell_type": "code",
   "execution_count": 6,
   "id": "together-edgar",
   "metadata": {},
   "outputs": [
    {
     "data": {
      "image/png": "[encoded data removed]",
      "text/plain": [
       "<Figure size 432x288 with 1 Axes>"
      ]
     },
     "metadata": {
      "needs_background": "light"
     },
     "output_type": "display_data"
    }
   ],
   "source": [
    "acc = X.history['accuracy']\n",
    "val_acc = X.history['val_accuracy']\n",
    "epochs = range(1,19)\n",
    "plt.plot(epochs,acc,'g',label='Training acc')\n",
    "plt.plot(epochs,val_acc,'r',label='Validation acc')\n",
    "plt.title('Training and validation acc')\n",
    "plt.xlabel('Epochs')\n",
    "plt.ylabel('Accuracy')\n",
    "plt.legend()\n",
    "plt.show()"
   ]
  },
  {
   "cell_type": "code",
   "execution_count": null,
   "id": "false-saturn",
   "metadata": {},
   "outputs": [],
   "source": [
    "input_shape = (72,72,3)\n",
    "\n",
    "image_input = Input(input_shape)\n",
    "\n",
    "xcept = Xception(input_shape=(72,72,3), weights='imagenet', include_top=False)(image_input)\n",
    "\n",
    "\n",
    "xcept.trainable = False\n",
    "  \n",
    "\n",
    "x = Flatten()(xcept)\n",
    "x = Dense(128, activation='relu')(x)\n",
    "x = Dense(64,activation='relu')(x)\n",
    "prediction = Dense(7, activation='softmax')(x)\n",
    "\n",
    "model = Model(inputs=image_input, outputs=prediction)\n",
    "model.summary()"
   ]
  },
  {
   "cell_type": "code",
   "execution_count": null,
   "id": "hidden-promotion",
   "metadata": {},
   "outputs": [],
   "source": []
  }
 ],
 "metadata": {
  "kernelspec": {
   "display_name": "py37_tensorflow",
   "language": "python",
   "name": "conda-env-py37_tensorflow-py"
  },
  "language_info": {
   "codemirror_mode": {
    "name": "ipython",
    "version": 3
   },
   "file_extension": ".py",
   "mimetype": "text/x-python",
   "name": "python",
   "nbconvert_exporter": "python",
   "pygments_lexer": "ipython3",
   "version": "3.7.9"
  }
 },
 "nbformat": 4,
 "nbformat_minor": 5
}
